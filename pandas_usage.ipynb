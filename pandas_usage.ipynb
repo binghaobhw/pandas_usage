{
 "cells": [
  {
   "cell_type": "code",
   "execution_count": 1,
   "metadata": {
    "ExecuteTime": {
     "end_time": "2017-04-23T18:31:56.901002Z",
     "start_time": "2017-04-23T18:31:53.954707Z"
    },
    "collapsed": true
   },
   "outputs": [],
   "source": [
    "import pandas as pd"
   ]
  },
  {
   "cell_type": "code",
   "execution_count": 2,
   "metadata": {
    "ExecuteTime": {
     "end_time": "2017-04-23T18:35:10.765386Z",
     "start_time": "2017-04-23T18:35:10.758385Z"
    },
    "collapsed": true
   },
   "outputs": [],
   "source": [
    "from io import StringIO"
   ]
  },
  {
   "cell_type": "code",
   "execution_count": 8,
   "metadata": {
    "ExecuteTime": {
     "end_time": "2017-04-23T18:37:09.945303Z",
     "start_time": "2017-04-23T18:37:09.939302Z"
    },
    "collapsed": false
   },
   "outputs": [],
   "source": [
    "province_code_csv = StringIO('''province_code,province_name,province_abbr,province_pinyin\n",
    "110000,北京,北京,BeiJing\n",
    "120000,天津,天津,TianJin\n",
    "130000,河北省,河北,HeBei\n",
    "140000,山西省,山西,ShanXi\n",
    "150000,内蒙古自治区,内蒙古,NeiMengGu\n",
    "210000,辽宁省,辽宁,LiaoNing\n",
    "220000,吉林省,吉林,JiLin\n",
    "230000,黑龙江省,黑龙江,HeiLongJiang\n",
    "310000,上海,上海,ShangHai\n",
    "320000,江苏省,江苏,JiangSu\n",
    "330000,浙江省,浙江,ZheJiang\n",
    "340000,安徽省,安徽,AnHui\n",
    "350000,福建省,福建,FuJian\n",
    "360000,江西省,江西,JiangXi\n",
    "370000,山东省,山东,ShanDong\n",
    "410000,河南省,河南,HeNan\n",
    "420000,湖北省,湖北,HuBei\n",
    "430000,湖南省,湖南,HuNan\n",
    "440000,广东省,广东,GuangDong\n",
    "450000,广西壮族自治区,广西,GuangXi\n",
    "460000,海南省,海南,HaiNan\n",
    "500000,重庆,重庆,ChongQing\n",
    "510000,四川省,四川,SiChuan\n",
    "520000,贵州省,贵州,GuiZhou\n",
    "530000,云南省,云南,YunNan\n",
    "540000,西藏自治区,西藏,XiZang\n",
    "610000,陕西省,陕西,ShanXi\n",
    "620000,甘肃省,甘肃,GanSu\n",
    "630000,青海省,青海,QingHai\n",
    "640000,宁夏回族自治区,宁夏,NingXia\n",
    "650000,新疆维吾尔自治区,新疆,XinJiang\n",
    "710000,台湾省,台湾,TaiWan\n",
    "810000,香港特别行政区,香港,XiangGang\n",
    "820000,澳门特别行政区,澳门,AoMen\n",
    "''')"
   ]
  },
  {
   "cell_type": "code",
   "execution_count": 9,
   "metadata": {
    "ExecuteTime": {
     "end_time": "2017-04-23T18:37:11.084417Z",
     "start_time": "2017-04-23T18:37:11.076416Z"
    },
    "collapsed": false
   },
   "outputs": [],
   "source": [
    "df = pd.read_csv(province_code_csv, dtype='object')"
   ]
  },
  {
   "cell_type": "code",
   "execution_count": 12,
   "metadata": {
    "ExecuteTime": {
     "end_time": "2017-04-23T18:39:35.799325Z",
     "start_time": "2017-04-23T18:39:35.789324Z"
    },
    "collapsed": true
   },
   "outputs": [],
   "source": [
    "def name_not_contain_abbr(name, abbr):\n",
    "    return abbr not in name"
   ]
  },
  {
   "cell_type": "code",
   "execution_count": 14,
   "metadata": {
    "ExecuteTime": {
     "end_time": "2017-04-23T18:40:17.906410Z",
     "start_time": "2017-04-23T18:40:17.884408Z"
    },
    "collapsed": false
   },
   "outputs": [
    {
     "data": {
      "text/html": [
       "<div>\n",
       "<table border=\"1\" class=\"dataframe\">\n",
       "  <thead>\n",
       "    <tr style=\"text-align: right;\">\n",
       "      <th></th>\n",
       "      <th>province_code</th>\n",
       "      <th>province_name</th>\n",
       "      <th>province_abbr</th>\n",
       "      <th>province_pinyin</th>\n",
       "    </tr>\n",
       "  </thead>\n",
       "  <tbody>\n",
       "  </tbody>\n",
       "</table>\n",
       "</div>"
      ],
      "text/plain": [
       "Empty DataFrame\n",
       "Columns: [province_code, province_name, province_abbr, province_pinyin]\n",
       "Index: []"
      ]
     },
     "execution_count": 14,
     "metadata": {},
     "output_type": "execute_result"
    }
   ],
   "source": [
    "df[df.apply(lambda x: name_not_contain_abbr(x['province_name'], x['province_abbr']), axis=1)]"
   ]
  }
 ],
 "metadata": {
  "kernelspec": {
   "display_name": "Python 3",
   "language": "python",
   "name": "python3"
  },
  "language_info": {
   "codemirror_mode": {
    "name": "ipython",
    "version": 3
   },
   "file_extension": ".py",
   "mimetype": "text/x-python",
   "name": "python",
   "nbconvert_exporter": "python",
   "pygments_lexer": "ipython3",
   "version": "3.6.0"
  },
  "toc": {
   "colors": {
    "hover_highlight": "#DAA520",
    "running_highlight": "#FF0000",
    "selected_highlight": "#FFD700"
   },
   "moveMenuLeft": true,
   "nav_menu": {
    "height": "12px",
    "width": "252px"
   },
   "navigate_menu": true,
   "number_sections": true,
   "sideBar": true,
   "threshold": 4,
   "toc_cell": false,
   "toc_section_display": "block",
   "toc_window_display": true,
   "widenNotebook": false
  }
 },
 "nbformat": 4,
 "nbformat_minor": 2
}
